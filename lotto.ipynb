{
 "cells": [
  {
   "cell_type": "markdown",
   "id": "d477459a",
   "metadata": {},
   "source": [
    "## 로또 당첨 번호 가져오기\n"
   ]
  },
  {
   "cell_type": "code",
   "execution_count": 16,
   "id": "5d565713",
   "metadata": {},
   "outputs": [
    {
     "name": "stdout",
     "output_type": "stream",
     "text": [
      "당첨번호\n",
      "['3', '6', '22', '23', '24', '38']\n",
      "보너스번호\n",
      "30\n"
     ]
    }
   ],
   "source": [
    "import requests\n",
    "from bs4 import BeautifulSoup\n",
    "\n",
    "num=1063\n",
    "url = \"https://dhlottery.co.kr/gameResult.do?method=byWin&drwNo={}\".format(num)\n",
    "response = requests.get(url)\n",
    "\n",
    "soup = BeautifulSoup(response.text, \"html.parser\")\n",
    "win_result = soup.select_one('div.win_result') #태그이름,클래스이름\n",
    "\n",
    "win_list = win_result.text.split('\\n')\n",
    "win_list\n",
    "win_list = win_result.text.split('\\n')[7:13]\n",
    "win_list\n",
    "print('당첨번호')\n",
    "print(win_list)\n",
    "bonus_num = win_result.text.split('\\n')[-4]\n",
    "print('보너스번호')\n",
    "print(bonus_num)\n"
   ]
  },
  {
   "cell_type": "markdown",
   "id": "762d36ea",
   "metadata": {},
   "source": [
    "# 로또 당첨 번호 앱 제작"
   ]
  },
  {
   "cell_type": "code",
   "execution_count": 43,
   "id": "46a1e9f6",
   "metadata": {},
   "outputs": [],
   "source": [
    "import requests\n",
    "from bs4 import BeautifulSoup\n",
    "from tkinter import *\n",
    "\n",
    "def lotto_win():\n",
    "    num=entry.get()\n",
    "    url = \"https://dhlottery.co.kr/gameResult.do?method=byWin&drwNo={}\".format(num)\n",
    "    response = requests.get(url)\n",
    "\n",
    "    soup = BeautifulSoup(response.text, \"html.parser\")\n",
    "    win_result = soup.select_one('div.win_result') #태그이름,클래스이름\n",
    "\n",
    "    win_list = win_result.text.split('\\n')[7:13]\n",
    "    bonus_num = win_result.text.split('\\n')[-4]\n",
    "    \n",
    "    output.delete(0.0, END) # 첫행 첫 문자 위치 시작\n",
    "    output.insert(END, f'당첨번호: {win_list}\\n보너스번호: {bonus_num}')\n",
    "    \n",
    "window = Tk()\n",
    "window.title(\"로또 당첨 확인\")\n",
    "\n",
    "Label(window, text=\"당첨 회차 입력: \").grid(row=0, column=0,sticky=W)\n",
    "#입력상자\n",
    "entry = Entry(window,bg=\"yellow\")\n",
    "entry.grid(row=1, column=0, sticky=W)\n",
    "#버튼\n",
    "button = Button(window, text=\"당첨 번호 확인\", command=lotto_win)\n",
    "button.grid(row=2,column=0, sticky=W)\n",
    "#출력상자\n",
    "output = Text(window, bg='skyblue',width=50,height=5)\n",
    "output.grid(row=3, column=0, sticky=W)\n",
    "\n",
    "window.mainloop()"
   ]
  },
  {
   "cell_type": "code",
   "execution_count": null,
   "id": "38bda43e",
   "metadata": {},
   "outputs": [],
   "source": []
  }
 ],
 "metadata": {
  "kernelspec": {
   "display_name": "Python 3 (ipykernel)",
   "language": "python",
   "name": "python3"
  },
  "language_info": {
   "codemirror_mode": {
    "name": "ipython",
    "version": 3
   },
   "file_extension": ".py",
   "mimetype": "text/x-python",
   "name": "python",
   "nbconvert_exporter": "python",
   "pygments_lexer": "ipython3",
   "version": "3.10.9"
  }
 },
 "nbformat": 4,
 "nbformat_minor": 5
}
