{
 "cells": [
  {
   "cell_type": "code",
   "execution_count": 13,
   "id": "141b60c6",
   "metadata": {},
   "outputs": [],
   "source": [
    "from tkinter import *\n",
    "\n",
    "window = Tk()\n",
    "window.title('grid')\n",
    "window.geometry(\"300x200\")\n",
    "window.option_add(\"*font\",\"맑은고딕 15\")\n",
    "\n",
    "# 바깥 여백 - padx - x축방향 여백설정 , pady - y축방향 여백설정\n",
    "Button(window, text='(0,0)').grid(row=0,column=0, padx=20)\n",
    "Button(window, text='(0,1)').grid(row=0,column=1)\n",
    "# 셀 병합\n",
    "Button(window, text= '(1,0)').grid(row=1, columnspan=2, pady=20)\n",
    "Button(window, text= '(2,0)').grid(row=2, column=0)\n",
    "\n",
    "window.mainloop()"
   ]
  },
  {
   "cell_type": "code",
   "execution_count": null,
   "id": "2f589bdf",
   "metadata": {},
   "outputs": [],
   "source": []
  }
 ],
 "metadata": {
  "kernelspec": {
   "display_name": "Python 3 (ipykernel)",
   "language": "python",
   "name": "python3"
  },
  "language_info": {
   "codemirror_mode": {
    "name": "ipython",
    "version": 3
   },
   "file_extension": ".py",
   "mimetype": "text/x-python",
   "name": "python",
   "nbconvert_exporter": "python",
   "pygments_lexer": "ipython3",
   "version": "3.10.9"
  }
 },
 "nbformat": 4,
 "nbformat_minor": 5
}
