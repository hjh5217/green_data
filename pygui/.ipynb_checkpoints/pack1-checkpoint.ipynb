{
 "cells": [
  {
   "cell_type": "code",
   "execution_count": 10,
   "id": "5dca36d7",
   "metadata": {},
   "outputs": [],
   "source": [
    "from tkinter import *\n",
    "window = Tk()\n",
    "window.title(\"pack\")\n",
    "window.geometry(\"300x100\")\n",
    "window.option_add(\"*Font\", \"바탕체 15\")\n",
    "\n",
    "# pack() - 한 줄을 차지함\n",
    "Label(window, text='안녕하세요').pack()\n",
    "btn = Button(window)\n",
    "btn.config(text='확인')\n",
    "# btn.pack(side='left')\n",
    "btn.pack(side='top') # top 이 기본속성\n",
    "\n",
    "window.mainloop()"
   ]
  },
  {
   "cell_type": "code",
   "execution_count": null,
   "id": "3291ce0a",
   "metadata": {},
   "outputs": [],
   "source": []
  }
 ],
 "metadata": {
  "kernelspec": {
   "display_name": "Python 3 (ipykernel)",
   "language": "python",
   "name": "python3"
  },
  "language_info": {
   "codemirror_mode": {
    "name": "ipython",
    "version": 3
   },
   "file_extension": ".py",
   "mimetype": "text/x-python",
   "name": "python",
   "nbconvert_exporter": "python",
   "pygments_lexer": "ipython3",
   "version": "3.10.9"
  }
 },
 "nbformat": 4,
 "nbformat_minor": 5
}
